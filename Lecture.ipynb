{
 "cells": [
  {
   "cell_type": "markdown",
   "metadata": {},
   "source": [
    "# ***Lecture Day2***\n",
    "**[By Palm]**"
   ]
  },
  {
   "cell_type": "markdown",
   "metadata": {},
   "source": [
    "### ***Comment***"
   ]
  },
  {
   "cell_type": "code",
   "execution_count": 1,
   "metadata": {},
   "outputs": [
    {
     "name": "stdout",
     "output_type": "stream",
     "text": [
      "Hello world\n"
     ]
    }
   ],
   "source": [
    "# this is comment. comment won't work in this code just note (inline comment)\n",
    "print(\"Hello world\")\n"
   ]
  },
  {
   "cell_type": "code",
   "execution_count": 2,
   "metadata": {},
   "outputs": [
    {
     "name": "stdout",
     "output_type": "stream",
     "text": [
      "Hello world\n"
     ]
    }
   ],
   "source": [
    "\"\"\"\n",
    "Mutiline comment\n",
    "Mutiline comment\n",
    "\"\"\"\n",
    "print(\"Hello world\")"
   ]
  },
  {
   "cell_type": "markdown",
   "metadata": {},
   "source": [
    "### ***Print***"
   ]
  },
  {
   "cell_type": "markdown",
   "metadata": {},
   "source": [
    "```python\n",
    "print(\"123\", \"456\", \"789\")\n",
    "``` \n",
    "***\n",
    "* \"123\", \"456\", \"789\" We call these ***arguments*** "
   ]
  },
  {
   "cell_type": "code",
   "execution_count": 3,
   "metadata": {},
   "outputs": [
    {
     "name": "stdout",
     "output_type": "stream",
     "text": [
      "Hello world\n",
      "Hello World ! 123\n",
      "Hello-World-!-123\n"
     ]
    }
   ],
   "source": [
    "print(\"Hello world\")\n",
    "print(\"Hello\", \"World\", \"!\", \"123\")\n",
    "print(\"Hello\", \"World\", \"!\", \"123\", sep=\"-\")"
   ]
  },
  {
   "cell_type": "code",
   "execution_count": 4,
   "metadata": {},
   "outputs": [
    {
     "name": "stdout",
     "output_type": "stream",
     "text": [
      "Hello\n",
      "World\n",
      "!\n",
      "123\n"
     ]
    }
   ],
   "source": [
    "print(\"Hello\", \"World\", \"!\", \"123\", sep=\"\\n\")"
   ]
  },
  {
   "cell_type": "markdown",
   "metadata": {},
   "source": [
    "### ***Data type***"
   ]
  },
  {
   "cell_type": "markdown",
   "metadata": {},
   "source": [
    "- integer - **int()**\n",
    "    - Ex. 2, 1, 0, -1, -2\n",
    "- floating point - **float()**\n",
    "    - Ex. 2.3, 1.2, 0.0, -1.5, -2.5\n",
    "- string - **str()**\n",
    "    - Ex. \"asdasdxc\", 'asdqeweqe'\n",
    "- boolean - **bool()**\n",
    "    - Ex. **True** ,  **False**\n",
    "- ***None***"
   ]
  },
  {
   "cell_type": "markdown",
   "metadata": {},
   "source": [
    "### ***Type Checking***"
   ]
  },
  {
   "cell_type": "code",
   "execution_count": 5,
   "metadata": {},
   "outputs": [
    {
     "name": "stdout",
     "output_type": "stream",
     "text": [
      "<class 'float'>\n"
     ]
    }
   ],
   "source": [
    "# type() is a function to check type\n",
    "\n",
    "print(type(0.0))"
   ]
  },
  {
   "cell_type": "code",
   "execution_count": 6,
   "metadata": {},
   "outputs": [
    {
     "name": "stdout",
     "output_type": "stream",
     "text": [
      "True\n"
     ]
    }
   ],
   "source": [
    "# isinstance(arg1, arg2) check whether arg1 is the type arg2\n",
    "\n",
    "print(isinstance(1, int))"
   ]
  },
  {
   "cell_type": "code",
   "execution_count": 7,
   "metadata": {},
   "outputs": [
    {
     "name": "stdout",
     "output_type": "stream",
     "text": [
      "True\n",
      "True\n",
      "True\n",
      "True\n"
     ]
    }
   ],
   "source": [
    "# Fun fact\n",
    "print(True == 1)\n",
    "print(False == 0)\n",
    "print(isinstance(True, int))\n",
    "print(isinstance(False, int))"
   ]
  },
  {
   "cell_type": "markdown",
   "metadata": {},
   "source": [
    "# ***Lecture Day3***\n",
    "**[By Palm]**"
   ]
  },
  {
   "cell_type": "markdown",
   "metadata": {},
   "source": [
    "### ***Variable***"
   ]
  },
  {
   "cell_type": "code",
   "execution_count": 12,
   "metadata": {},
   "outputs": [
    {
     "name": "stdout",
     "output_type": "stream",
     "text": [
      "22\n",
      "23\n",
      "None\n"
     ]
    }
   ],
   "source": [
    "# Declare variable\n",
    "age = 22\n",
    "firstname = \"Vetit\"\n",
    "is_odd = False\n",
    "\n",
    "print(age) # How to print it\n",
    "\n",
    "age = 23\n",
    "print(age) # Age after reassign!\n",
    "\n",
    "age = None\n",
    "print(age)"
   ]
  },
  {
   "cell_type": "code",
   "execution_count": 13,
   "metadata": {},
   "outputs": [
    {
     "name": "stdout",
     "output_type": "stream",
     "text": [
      "\n",
      "Here is a list of the Python keywords.  Enter any keyword to get more help.\n",
      "\n",
      "False               class               from                or\n",
      "None                continue            global              pass\n",
      "True                def                 if                  raise\n",
      "and                 del                 import              return\n",
      "as                  elif                in                  try\n",
      "assert              else                is                  while\n",
      "async               except              lambda              with\n",
      "await               finally             nonlocal            yield\n",
      "break               for                 not                 \n",
      "\n",
      "None\n"
     ]
    }
   ],
   "source": [
    "# Name variable | Meaningful\n",
    "firstname = \"Name\"\n",
    "lastname = \"Lastname\"\n",
    "\n",
    "\"\"\"\n",
    "Bad example\n",
    "1var = 3\n",
    "_var = 2\n",
    "\"\"\"\n",
    "\n",
    "# Reserve Words\n",
    "print(help(\"keywords\")) # CANNOT use as a variable name!!!"
   ]
  },
  {
   "cell_type": "markdown",
   "metadata": {},
   "source": [
    "### ***Input***"
   ]
  },
  {
   "cell_type": "code",
   "execution_count": 20,
   "metadata": {},
   "outputs": [
    {
     "name": "stdout",
     "output_type": "stream",
     "text": [
      "Hello, welcome asds\n"
     ]
    }
   ],
   "source": [
    "username = input() # How to input\n",
    "print(\"Hello, welcome\", username)\n"
   ]
  },
  {
   "cell_type": "code",
   "execution_count": 21,
   "metadata": {},
   "outputs": [
    {
     "name": "stdout",
     "output_type": "stream",
     "text": [
      "Hello, welcome 231\n"
     ]
    }
   ],
   "source": [
    "username = input(\"Please input your username\") # Put any string to make user know where to input\n",
    "print(\"Hello, welcome\", username)"
   ]
  },
  {
   "cell_type": "markdown",
   "metadata": {},
   "source": [
    "### ***Convert datatype***"
   ]
  },
  {
   "cell_type": "code",
   "execution_count": 24,
   "metadata": {},
   "outputs": [
    {
     "name": "stdout",
     "output_type": "stream",
     "text": [
      "4 <class 'int'>\n",
      "-1 <class 'int'>\n",
      "2 <class 'int'>\n",
      "-2 <class 'int'>\n"
     ]
    },
    {
     "data": {
      "text/plain": [
       "'\\nCannot convert\\na = int(\"True\")\\na = int(\"2.4\")\\n'"
      ]
     },
     "execution_count": 24,
     "metadata": {},
     "output_type": "execute_result"
    }
   ],
   "source": [
    "# int()\n",
    "a = int(\"4\")\n",
    "print(a, type(a))\n",
    "\n",
    "a = int(\"-1\")\n",
    "print(a, type(a))\n",
    "\n",
    "a = int(2.4)\n",
    "print(a, type(a))\n",
    "\n",
    "a = int(-2.4)\n",
    "print(a, type(a))\n",
    "\n",
    "\"\"\"\n",
    "Cannot convert\n",
    "a = int(\"True\")\n",
    "a = int(\"2.4\")\n",
    "\"\"\""
   ]
  },
  {
   "cell_type": "code",
   "execution_count": 29,
   "metadata": {},
   "outputs": [
    {
     "name": "stdout",
     "output_type": "stream",
     "text": [
      "-2.0\n",
      "-2.0\n",
      "-2.4\n",
      "1.0\n"
     ]
    }
   ],
   "source": [
    "# float()\n",
    "a = float(-2)\n",
    "print(a, type(a))\n",
    "\n",
    "a = float(\"-2\")\n",
    "print(a, type(a))\n",
    "\n",
    "a = float(\"-2.4\")\n",
    "print(a, type(a))\n",
    "\n",
    "a = float(True)\n",
    "print(a, type(a))"
   ]
  },
  {
   "cell_type": "code",
   "execution_count": 35,
   "metadata": {},
   "outputs": [
    {
     "name": "stdout",
     "output_type": "stream",
     "text": [
      "True <class 'bool'>\n",
      "False <class 'bool'>\n",
      "True <class 'bool'>\n",
      "False <class 'bool'>\n",
      "False <class 'bool'>\n",
      "True <class 'bool'>\n",
      "False <class 'bool'>\n"
     ]
    }
   ],
   "source": [
    "# bool()\n",
    "a = bool(1)\n",
    "print(a, type(a))\n",
    "\n",
    "a = bool(0)\n",
    "print(a, type(a))\n",
    "\n",
    "a = bool(-1)\n",
    "print(a, type(a))\n",
    "\n",
    "a = bool(0.0)\n",
    "print(a, type(a))\n",
    "\n",
    "a = bool(\"\")\n",
    "print(a, type(a))\n",
    "\n",
    "a = bool(2.4)\n",
    "print(a, type(a))\n",
    "\n",
    "a = bool(None)\n",
    "print(a, type(a))"
   ]
  },
  {
   "cell_type": "code",
   "execution_count": 38,
   "metadata": {},
   "outputs": [
    {
     "name": "stdout",
     "output_type": "stream",
     "text": [
      "1 <class 'str'>\n",
      "True <class 'str'>\n",
      "False <class 'str'>\n",
      "2.4 <class 'str'>\n",
      "-2.4 <class 'str'>\n",
      "15\n"
     ]
    }
   ],
   "source": [
    "# str()\n",
    "a = str(1)\n",
    "print(a, type(a))\n",
    "\n",
    "a = str(True)\n",
    "print(a, type(a))\n",
    "\n",
    "a = str(False)\n",
    "print(a, type(a))\n",
    "\n",
    "a = str(2.4)\n",
    "print(a, type(a))\n",
    "\n",
    "a = str(-2.4)\n",
    "print(a, type(a))"
   ]
  },
  {
   "cell_type": "markdown",
   "metadata": {},
   "source": [
    "### ***Math operations***"
   ]
  },
  {
   "cell_type": "code",
   "execution_count": 49,
   "metadata": {},
   "outputs": [],
   "source": [
    "a = 1 + 1 # 2\n",
    "\n",
    "a = 6-3 # 3\n",
    "\n",
    "a = 4*5 # 20\n",
    "\n",
    "a = 6/3 # 2.0 divide is always in float\n",
    "a = int(6/3) # 2\n",
    "\n",
    "a = 6//3 # 2\n",
    "\n",
    "a = 2**3 # 8\n",
    "\n",
    "# Modulus find remainder\n",
    "a = 5%3 # 2\n",
    "a = 54%13 # 2\n",
    "a = 54%5 # 4\n",
    "a = 32.2%3 # 2.200000000000003    abnormal case\n",
    "a = 10%3.3 # 0.10000000000000053  abnormal case\n",
    "\n",
    "a = 0 ** 0 # In math, undefine, But in python is 1 !!!"
   ]
  },
  {
   "cell_type": "markdown",
   "metadata": {},
   "source": [
    "### ***Order of operations***"
   ]
  },
  {
   "cell_type": "code",
   "execution_count": 66,
   "metadata": {},
   "outputs": [],
   "source": [
    "\"\"\" \n",
    "The order of operations\n",
    "()\n",
    "**\n",
    "* / %\n",
    "+ -\n",
    "\"\"\"\n",
    "a = (2 * 2) - (2 / 2) - (2 ** 2) # 1st way of reorganizing \n",
    "a = 2*2 - 2/2 - 2**2 # 2nd way of reorganizing"
   ]
  },
  {
   "cell_type": "markdown",
   "metadata": {},
   "source": [
    "### ***Variable Assign***"
   ]
  },
  {
   "cell_type": "code",
   "execution_count": 119,
   "metadata": {},
   "outputs": [
    {
     "name": "stdout",
     "output_type": "stream",
     "text": [
      "14\n",
      "0.5 6\n"
     ]
    }
   ],
   "source": [
    "a = 4 + 4\n",
    "b = 3 * 2\n",
    "\n",
    "print(a + b)\n",
    "\n",
    "a = a + 4\n",
    "a = b / a\n",
    "print(a, b)"
   ]
  },
  {
   "cell_type": "code",
   "execution_count": 122,
   "metadata": {},
   "outputs": [
    {
     "name": "stdout",
     "output_type": "stream",
     "text": [
      "5\n",
      "5\n"
     ]
    }
   ],
   "source": [
    "a = 1\n",
    "a = a + 4 # Same \n",
    "print(a)\n",
    "\n",
    "a = 1\n",
    "a += 4 # Same\n",
    "print(a)\n",
    "\n",
    "a -= 1\n",
    "a /= 1\n",
    "a %= 1\n",
    "a *= 1"
   ]
  },
  {
   "cell_type": "markdown",
   "metadata": {},
   "source": [
    "### ***Logical Operators***"
   ]
  },
  {
   "cell_type": "code",
   "execution_count": 2,
   "metadata": {},
   "outputs": [
    {
     "data": {
      "text/plain": [
       "False"
      ]
     },
     "execution_count": 2,
     "metadata": {},
     "output_type": "execute_result"
    }
   ],
   "source": [
    "a = 5 \n",
    "\n",
    "2 > 3 # False\n",
    "a < 7 # True\n",
    "\n",
    "# Equal sign \n",
    "a == 6 # False\n",
    "\n",
    "a >= 5 # True\n",
    "a <= 2 # False\n",
    "a != 5 # False\n",
    "\n",
    "4 > 3 > 2  # True\n",
    "3 == 3 != 3 # False"
   ]
  },
  {
   "cell_type": "markdown",
   "metadata": {},
   "source": [
    "# ***Lecture Day4***\n",
    "***[By Palm]***"
   ]
  },
  {
   "cell_type": "markdown",
   "metadata": {},
   "source": [
    "### ***Logical Connector***"
   ]
  },
  {
   "cell_type": "code",
   "execution_count": 16,
   "metadata": {},
   "outputs": [
    {
     "name": "stdout",
     "output_type": "stream",
     "text": [
      "not Operator: False\n",
      "And operator: True and True is True\n",
      "And operator: True and False is False\n",
      "And operator: False and True is False\n",
      "And operator: False and False is False\n",
      "\n",
      "Or operator: True or True is True\n",
      "Or operator: True or False is True\n",
      "Or operator: False or True is True\n",
      "Or operator: False or False is False\n"
     ]
    },
    {
     "data": {
      "text/plain": [
       "False"
      ]
     },
     "execution_count": 16,
     "metadata": {},
     "output_type": "execute_result"
    }
   ],
   "source": [
    "# and, or, not\n",
    "print(f\"not Operator: {not True}\")\n",
    "\n",
    "TF = [True, False]\n",
    "for i in TF:\n",
    "    for j in TF:\n",
    "        print(f\"And operator: { str(i) } and { str(j) } is { i and j }\")\n",
    "print()\n",
    "\n",
    "TF = [True, False]\n",
    "for i in TF:\n",
    "    for j in TF:\n",
    "        print(f\"Or operator: { str(i) } or { str(j) } is { i or j }\")\n",
    "\n",
    "2 > 3 and 3 > 1"
   ]
  },
  {
   "cell_type": "code",
   "execution_count": 19,
   "metadata": {},
   "outputs": [
    {
     "name": "stdout",
     "output_type": "stream",
     "text": [
      "Name: Palm\n",
      "Age: 19\n"
     ]
    }
   ],
   "source": [
    "user_age, user_firstname = int(input()), input()\n",
    "print(\"Name:\",user_firstname)\n",
    "print(\"Age:\",user_age)"
   ]
  },
  {
   "cell_type": "markdown",
   "metadata": {},
   "source": [
    "### ***Adder Program***"
   ]
  },
  {
   "cell_type": "code",
   "execution_count": 28,
   "metadata": {},
   "outputs": [
    {
     "name": "stdout",
     "output_type": "stream",
     "text": [
      "1 3\n",
      "4\n"
     ]
    }
   ],
   "source": [
    "# Example\n",
    "first_number = int(input(\"Enter first number: \"))\n",
    "second_number = int(input(\"Enter second number: \"))\n",
    "print(first_number, second_number)\n",
    "\n",
    "added_number = first_number + second_number\n",
    "print(added_number)"
   ]
  },
  {
   "cell_type": "markdown",
   "metadata": {},
   "source": [
    "### ***Celsius to others***"
   ]
  },
  {
   "cell_type": "code",
   "execution_count": 35,
   "metadata": {},
   "outputs": [
    {
     "name": "stdout",
     "output_type": "stream",
     "text": [
      "From 32.0 Celsius to 89.6 Farenheit\n",
      "From 32.0 Celsius to 305.0 Kelvin\n",
      "From 32.0 Celsius to 25.6 Reaumur\n"
     ]
    }
   ],
   "source": [
    "# Converting temperature Celsius to others 3\n",
    "\n",
    "celsius = float(input(\"Please enter your temperature(Celsius): \"))\n",
    "\n",
    "# celsius/5 = f-32/9 = k-273/5 = r/4\n",
    "farenheit = (celsius / 5)*9 + 32\n",
    "kelvin = celsius + 273\n",
    "reaumur = (celsius / 5) * 4\n",
    "\n",
    "print(f\"From {celsius} Celsius to {farenheit} Farenheit\")\n",
    "print(f\"From {celsius} Celsius to {kelvin} Kelvin\")\n",
    "print(f\"From {celsius} Celsius to {reaumur} Reaumur\")"
   ]
  },
  {
   "cell_type": "markdown",
   "metadata": {},
   "source": [
    "### ***Maths Functions***"
   ]
  },
  {
   "cell_type": "code",
   "execution_count": 39,
   "metadata": {},
   "outputs": [
    {
     "data": {
      "text/plain": [
       "1.0"
      ]
     },
     "execution_count": 39,
     "metadata": {},
     "output_type": "execute_result"
    }
   ],
   "source": [
    "abs(-12) # turning negative number to positive\n",
    "abs(-1.0)"
   ]
  },
  {
   "cell_type": "code",
   "execution_count": 42,
   "metadata": {},
   "outputs": [
    {
     "data": {
      "text/plain": [
       "1"
      ]
     },
     "execution_count": 42,
     "metadata": {},
     "output_type": "execute_result"
    }
   ],
   "source": [
    "max(1,3,4,5,2,1,3,4,2)\n",
    "min(1,3,4,5,2,1,3,4,2)"
   ]
  },
  {
   "cell_type": "code",
   "execution_count": 46,
   "metadata": {},
   "outputs": [
    {
     "data": {
      "text/plain": [
       "-1.256"
      ]
     },
     "execution_count": 46,
     "metadata": {},
     "output_type": "execute_result"
    }
   ],
   "source": [
    "round(2.45, 1) # 2.5\n",
    "round(-1.2563, 3) # -1.256"
   ]
  }
 ],
 "metadata": {
  "kernelspec": {
   "display_name": "intro_python1",
   "language": "python",
   "name": "python3"
  },
  "language_info": {
   "codemirror_mode": {
    "name": "ipython",
    "version": 3
   },
   "file_extension": ".py",
   "mimetype": "text/x-python",
   "name": "python",
   "nbconvert_exporter": "python",
   "pygments_lexer": "ipython3",
   "version": "3.12.4"
  }
 },
 "nbformat": 4,
 "nbformat_minor": 2
}
