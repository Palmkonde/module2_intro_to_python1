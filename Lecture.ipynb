{
 "cells": [
  {
   "cell_type": "markdown",
   "metadata": {},
   "source": [
    "# ***Lecture Day2***\n",
    "**[By Palm]**"
   ]
  },
  {
   "cell_type": "markdown",
   "metadata": {},
   "source": [
    "### ***Comment***"
   ]
  },
  {
   "cell_type": "code",
   "execution_count": 1,
   "metadata": {},
   "outputs": [
    {
     "name": "stdout",
     "output_type": "stream",
     "text": [
      "Hello world\n"
     ]
    }
   ],
   "source": [
    "# this is comment. comment won't work in this code just note (inline comment)\n",
    "print(\"Hello world\")\n"
   ]
  },
  {
   "cell_type": "code",
   "execution_count": 2,
   "metadata": {},
   "outputs": [
    {
     "name": "stdout",
     "output_type": "stream",
     "text": [
      "Hello world\n"
     ]
    }
   ],
   "source": [
    "\"\"\"\n",
    "Mutiline comment\n",
    "Mutiline comment\n",
    "\"\"\"\n",
    "print(\"Hello world\")"
   ]
  },
  {
   "cell_type": "markdown",
   "metadata": {},
   "source": [
    "### ***Print***"
   ]
  },
  {
   "cell_type": "markdown",
   "metadata": {},
   "source": [
    "```python\n",
    "print(\"123\", \"456\", \"789\")\n",
    "``` \n",
    "***\n",
    "* \"123\", \"456\", \"789\" We call these ***arguments*** "
   ]
  },
  {
   "cell_type": "code",
   "execution_count": 3,
   "metadata": {},
   "outputs": [
    {
     "name": "stdout",
     "output_type": "stream",
     "text": [
      "Hello world\n",
      "Hello World ! 123\n",
      "Hello-World-!-123\n"
     ]
    }
   ],
   "source": [
    "print(\"Hello world\")\n",
    "print(\"Hello\", \"World\", \"!\", \"123\")\n",
    "print(\"Hello\", \"World\", \"!\", \"123\", sep=\"-\")"
   ]
  },
  {
   "cell_type": "code",
   "execution_count": 4,
   "metadata": {},
   "outputs": [
    {
     "name": "stdout",
     "output_type": "stream",
     "text": [
      "Hello\n",
      "World\n",
      "!\n",
      "123\n"
     ]
    }
   ],
   "source": [
    "print(\"Hello\", \"World\", \"!\", \"123\", sep=\"\\n\")"
   ]
  },
  {
   "cell_type": "markdown",
   "metadata": {},
   "source": [
    "### ***Data type***"
   ]
  },
  {
   "cell_type": "markdown",
   "metadata": {},
   "source": [
    "- integer - **int()**\n",
    "    - Ex. 2, 1, 0, -1, -2\n",
    "- floating point - **float()**\n",
    "    - Ex. 2.3, 1.2, 0.0, -1.5, -2.5\n",
    "- string - **str()**\n",
    "    - Ex. \"asdasdxc\", 'asdqeweqe'\n",
    "- boolean - **bool()**\n",
    "    - Ex. **True** ,  **False**\n",
    "- ***None***"
   ]
  },
  {
   "cell_type": "markdown",
   "metadata": {},
   "source": [
    "### ***Type Checking***"
   ]
  },
  {
   "cell_type": "code",
   "execution_count": 5,
   "metadata": {},
   "outputs": [
    {
     "name": "stdout",
     "output_type": "stream",
     "text": [
      "<class 'float'>\n"
     ]
    }
   ],
   "source": [
    "# type() is a function to check type\n",
    "\n",
    "print(type(0.0))"
   ]
  },
  {
   "cell_type": "code",
   "execution_count": 6,
   "metadata": {},
   "outputs": [
    {
     "name": "stdout",
     "output_type": "stream",
     "text": [
      "True\n"
     ]
    }
   ],
   "source": [
    "# isinstance(arg1, arg2) check whether arg1 is the type arg2\n",
    "\n",
    "print(isinstance(1, int))"
   ]
  },
  {
   "cell_type": "code",
   "execution_count": 7,
   "metadata": {},
   "outputs": [
    {
     "name": "stdout",
     "output_type": "stream",
     "text": [
      "True\n",
      "True\n",
      "True\n",
      "True\n"
     ]
    }
   ],
   "source": [
    "# Fun fact\n",
    "print(True == 1)\n",
    "print(False == 0)\n",
    "print(isinstance(True, int))\n",
    "print(isinstance(False, int))"
   ]
  },
  {
   "cell_type": "markdown",
   "metadata": {},
   "source": [
    "# ***Lecture Day3***\n",
    "**[By Palm]**"
   ]
  },
  {
   "cell_type": "markdown",
   "metadata": {},
   "source": [
    "### ***Variable***"
   ]
  },
  {
   "cell_type": "code",
   "execution_count": 12,
   "metadata": {},
   "outputs": [
    {
     "name": "stdout",
     "output_type": "stream",
     "text": [
      "22\n",
      "23\n",
      "None\n"
     ]
    }
   ],
   "source": [
    "# Declare variable\n",
    "age = 22\n",
    "firstname = \"Vetit\"\n",
    "is_odd = False\n",
    "\n",
    "print(age) # How to print it\n",
    "\n",
    "age = 23\n",
    "print(age) # Age after reassign!\n",
    "\n",
    "age = None\n",
    "print(age)"
   ]
  },
  {
   "cell_type": "code",
   "execution_count": 13,
   "metadata": {},
   "outputs": [
    {
     "name": "stdout",
     "output_type": "stream",
     "text": [
      "\n",
      "Here is a list of the Python keywords.  Enter any keyword to get more help.\n",
      "\n",
      "False               class               from                or\n",
      "None                continue            global              pass\n",
      "True                def                 if                  raise\n",
      "and                 del                 import              return\n",
      "as                  elif                in                  try\n",
      "assert              else                is                  while\n",
      "async               except              lambda              with\n",
      "await               finally             nonlocal            yield\n",
      "break               for                 not                 \n",
      "\n",
      "None\n"
     ]
    }
   ],
   "source": [
    "# Name variable | Meaningful\n",
    "firstname = \"Name\"\n",
    "lastname = \"Lastname\"\n",
    "\n",
    "\"\"\"\n",
    "Bad example\n",
    "1var = 3\n",
    "_var = 2\n",
    "\"\"\"\n",
    "\n",
    "# Reserve Words\n",
    "print(help(\"keywords\")) # CANNOT use as a variable name!!!"
   ]
  },
  {
   "cell_type": "markdown",
   "metadata": {},
   "source": [
    "### ***Input***"
   ]
  },
  {
   "cell_type": "code",
   "execution_count": 20,
   "metadata": {},
   "outputs": [
    {
     "name": "stdout",
     "output_type": "stream",
     "text": [
      "Hello, welcome asds\n"
     ]
    }
   ],
   "source": [
    "username = input() # How to input\n",
    "print(\"Hello, welcome\", username)\n"
   ]
  },
  {
   "cell_type": "code",
   "execution_count": 21,
   "metadata": {},
   "outputs": [
    {
     "name": "stdout",
     "output_type": "stream",
     "text": [
      "Hello, welcome 231\n"
     ]
    }
   ],
   "source": [
    "username = input(\"Please input your username\") # Put any string to make user know where to input\n",
    "print(\"Hello, welcome\", username)"
   ]
  },
  {
   "cell_type": "markdown",
   "metadata": {},
   "source": [
    "### ***Convert datatype***"
   ]
  },
  {
   "cell_type": "code",
   "execution_count": 24,
   "metadata": {},
   "outputs": [
    {
     "name": "stdout",
     "output_type": "stream",
     "text": [
      "4 <class 'int'>\n",
      "-1 <class 'int'>\n",
      "2 <class 'int'>\n",
      "-2 <class 'int'>\n"
     ]
    },
    {
     "data": {
      "text/plain": [
       "'\\nCannot convert\\na = int(\"True\")\\na = int(\"2.4\")\\n'"
      ]
     },
     "execution_count": 24,
     "metadata": {},
     "output_type": "execute_result"
    }
   ],
   "source": [
    "# int()\n",
    "a = int(\"4\")\n",
    "print(a, type(a))\n",
    "\n",
    "a = int(\"-1\")\n",
    "print(a, type(a))\n",
    "\n",
    "a = int(2.4)\n",
    "print(a, type(a))\n",
    "\n",
    "a = int(-2.4)\n",
    "print(a, type(a))\n",
    "\n",
    "\"\"\"\n",
    "Cannot convert\n",
    "a = int(\"True\")\n",
    "a = int(\"2.4\")\n",
    "\"\"\""
   ]
  },
  {
   "cell_type": "code",
   "execution_count": 29,
   "metadata": {},
   "outputs": [
    {
     "name": "stdout",
     "output_type": "stream",
     "text": [
      "-2.0\n",
      "-2.0\n",
      "-2.4\n",
      "1.0\n"
     ]
    }
   ],
   "source": [
    "# float()\n",
    "a = float(-2)\n",
    "print(a, type(a))\n",
    "\n",
    "a = float(\"-2\")\n",
    "print(a, type(a))\n",
    "\n",
    "a = float(\"-2.4\")\n",
    "print(a, type(a))\n",
    "\n",
    "a = float(True)\n",
    "print(a, type(a))"
   ]
  },
  {
   "cell_type": "code",
   "execution_count": 35,
   "metadata": {},
   "outputs": [
    {
     "name": "stdout",
     "output_type": "stream",
     "text": [
      "True <class 'bool'>\n",
      "False <class 'bool'>\n",
      "True <class 'bool'>\n",
      "False <class 'bool'>\n",
      "False <class 'bool'>\n",
      "True <class 'bool'>\n",
      "False <class 'bool'>\n"
     ]
    }
   ],
   "source": [
    "# bool()\n",
    "a = bool(1)\n",
    "print(a, type(a))\n",
    "\n",
    "a = bool(0)\n",
    "print(a, type(a))\n",
    "\n",
    "a = bool(-1)\n",
    "print(a, type(a))\n",
    "\n",
    "a = bool(0.0)\n",
    "print(a, type(a))\n",
    "\n",
    "a = bool(\"\")\n",
    "print(a, type(a))\n",
    "\n",
    "a = bool(2.4)\n",
    "print(a, type(a))\n",
    "\n",
    "a = bool(None)\n",
    "print(a, type(a))"
   ]
  },
  {
   "cell_type": "code",
   "execution_count": 38,
   "metadata": {},
   "outputs": [
    {
     "name": "stdout",
     "output_type": "stream",
     "text": [
      "1 <class 'str'>\n",
      "True <class 'str'>\n",
      "False <class 'str'>\n",
      "2.4 <class 'str'>\n",
      "-2.4 <class 'str'>\n",
      "15\n"
     ]
    }
   ],
   "source": [
    "# str()\n",
    "a = str(1)\n",
    "print(a, type(a))\n",
    "\n",
    "a = str(True)\n",
    "print(a, type(a))\n",
    "\n",
    "a = str(False)\n",
    "print(a, type(a))\n",
    "\n",
    "a = str(2.4)\n",
    "print(a, type(a))\n",
    "\n",
    "a = str(-2.4)\n",
    "print(a, type(a))"
   ]
  },
  {
   "cell_type": "markdown",
   "metadata": {},
   "source": [
    "### ***Math operations***"
   ]
  },
  {
   "cell_type": "code",
   "execution_count": 49,
   "metadata": {},
   "outputs": [],
   "source": [
    "a = 1 + 1 # 2\n",
    "\n",
    "a = 6-3 # 3\n",
    "\n",
    "a = 4*5 # 20\n",
    "\n",
    "a = 6/3 # 2.0 divide is always in float\n",
    "a = int(6/3) # 2\n",
    "\n",
    "a = 6//3 # 2\n",
    "\n",
    "a = 2**3 # 8\n",
    "\n",
    "# Modulus find remainder\n",
    "a = 5%3 # 2\n",
    "a = 54%13 # 2\n",
    "a = 54%5 # 4\n",
    "a = 32.2%3 # 2.200000000000003    abnormal case\n",
    "a = 10%3.3 # 0.10000000000000053  abnormal case\n",
    "\n",
    "a = 0 ** 0 # In math, undefine, But in python is 1 !!!"
   ]
  },
  {
   "cell_type": "markdown",
   "metadata": {},
   "source": [
    "### ***Order of operations***"
   ]
  },
  {
   "cell_type": "code",
   "execution_count": 66,
   "metadata": {},
   "outputs": [],
   "source": [
    "\"\"\" \n",
    "The order of operations\n",
    "()\n",
    "**\n",
    "* / %\n",
    "+ -\n",
    "\"\"\"\n",
    "a = (2 * 2) - (2 / 2) - (2 ** 2) # 1st way of reorganizing \n",
    "a = 2*2 - 2/2 - 2**2 # 2nd way of reorganizing"
   ]
  },
  {
   "cell_type": "markdown",
   "metadata": {},
   "source": [
    "### ***Variable Assign***"
   ]
  },
  {
   "cell_type": "code",
   "execution_count": 119,
   "metadata": {},
   "outputs": [
    {
     "name": "stdout",
     "output_type": "stream",
     "text": [
      "14\n",
      "0.5 6\n"
     ]
    }
   ],
   "source": [
    "a = 4 + 4\n",
    "b = 3 * 2\n",
    "\n",
    "print(a + b)\n",
    "\n",
    "a = a + 4\n",
    "a = b / a\n",
    "print(a, b)"
   ]
  },
  {
   "cell_type": "code",
   "execution_count": 122,
   "metadata": {},
   "outputs": [
    {
     "name": "stdout",
     "output_type": "stream",
     "text": [
      "5\n",
      "5\n"
     ]
    }
   ],
   "source": [
    "a = 1\n",
    "a = a + 4 # Same \n",
    "print(a)\n",
    "\n",
    "a = 1\n",
    "a += 4 # Same\n",
    "print(a)\n",
    "\n",
    "a -= 1\n",
    "a /= 1\n",
    "a %= 1\n",
    "a *= 1"
   ]
  },
  {
   "cell_type": "markdown",
   "metadata": {},
   "source": [
    "### ***Logical Operators***"
   ]
  },
  {
   "cell_type": "code",
   "execution_count": 2,
   "metadata": {},
   "outputs": [
    {
     "data": {
      "text/plain": [
       "False"
      ]
     },
     "execution_count": 2,
     "metadata": {},
     "output_type": "execute_result"
    }
   ],
   "source": [
    "a = 5 \n",
    "\n",
    "2 > 3 # False\n",
    "a < 7 # True\n",
    "\n",
    "# Equal sign \n",
    "a == 6 # False\n",
    "\n",
    "a >= 5 # True\n",
    "a <= 2 # False\n",
    "a != 5 # False\n",
    "\n",
    "4 > 3 > 2  # True\n",
    "3 == 3 != 3 # False"
   ]
  },
  {
   "cell_type": "markdown",
   "metadata": {},
   "source": [
    "# ***Lecture Day4***\n",
    "***[By Palm]***"
   ]
  },
  {
   "cell_type": "markdown",
   "metadata": {},
   "source": [
    "### ***Logical Connector***"
   ]
  },
  {
   "cell_type": "code",
   "execution_count": 16,
   "metadata": {},
   "outputs": [
    {
     "name": "stdout",
     "output_type": "stream",
     "text": [
      "not Operator: False\n",
      "And operator: True and True is True\n",
      "And operator: True and False is False\n",
      "And operator: False and True is False\n",
      "And operator: False and False is False\n",
      "\n",
      "Or operator: True or True is True\n",
      "Or operator: True or False is True\n",
      "Or operator: False or True is True\n",
      "Or operator: False or False is False\n"
     ]
    },
    {
     "data": {
      "text/plain": [
       "False"
      ]
     },
     "execution_count": 16,
     "metadata": {},
     "output_type": "execute_result"
    }
   ],
   "source": [
    "# and, or, not\n",
    "print(f\"not Operator: {not True}\")\n",
    "\n",
    "TF = [True, False]\n",
    "for i in TF:\n",
    "    for j in TF:\n",
    "        print(f\"And operator: { str(i) } and { str(j) } is { i and j }\")\n",
    "print()\n",
    "\n",
    "TF = [True, False]\n",
    "for i in TF:\n",
    "    for j in TF:\n",
    "        print(f\"Or operator: { str(i) } or { str(j) } is { i or j }\")\n",
    "\n",
    "2 > 3 and 3 > 1"
   ]
  },
  {
   "cell_type": "code",
   "execution_count": 19,
   "metadata": {},
   "outputs": [
    {
     "name": "stdout",
     "output_type": "stream",
     "text": [
      "Name: Palm\n",
      "Age: 19\n"
     ]
    }
   ],
   "source": [
    "user_age, user_firstname = int(input()), input()\n",
    "print(\"Name:\",user_firstname)\n",
    "print(\"Age:\",user_age)"
   ]
  },
  {
   "cell_type": "markdown",
   "metadata": {},
   "source": [
    "### ***Adder Program***"
   ]
  },
  {
   "cell_type": "code",
   "execution_count": 28,
   "metadata": {},
   "outputs": [
    {
     "name": "stdout",
     "output_type": "stream",
     "text": [
      "1 3\n",
      "4\n"
     ]
    }
   ],
   "source": [
    "# Example\n",
    "first_number = int(input(\"Enter first number: \"))\n",
    "second_number = int(input(\"Enter second number: \"))\n",
    "print(first_number, second_number)\n",
    "\n",
    "added_number = first_number + second_number\n",
    "print(added_number)"
   ]
  },
  {
   "cell_type": "markdown",
   "metadata": {},
   "source": [
    "### ***Celsius to others***"
   ]
  },
  {
   "cell_type": "code",
   "execution_count": 35,
   "metadata": {},
   "outputs": [
    {
     "name": "stdout",
     "output_type": "stream",
     "text": [
      "From 32.0 Celsius to 89.6 Farenheit\n",
      "From 32.0 Celsius to 305.0 Kelvin\n",
      "From 32.0 Celsius to 25.6 Reaumur\n"
     ]
    }
   ],
   "source": [
    "# Converting temperature Celsius to others 3\n",
    "\n",
    "celsius = float(input(\"Please enter your temperature(Celsius): \"))\n",
    "\n",
    "# celsius/5 = f-32/9 = k-273/5 = r/4\n",
    "farenheit = (celsius / 5)*9 + 32\n",
    "kelvin = celsius + 273\n",
    "reaumur = (celsius / 5) * 4\n",
    "\n",
    "print(f\"From {celsius} Celsius to {farenheit} Farenheit\")\n",
    "print(f\"From {celsius} Celsius to {kelvin} Kelvin\")\n",
    "print(f\"From {celsius} Celsius to {reaumur} Reaumur\")"
   ]
  },
  {
   "cell_type": "markdown",
   "metadata": {},
   "source": [
    "### ***Maths Functions***"
   ]
  },
  {
   "cell_type": "code",
   "execution_count": 39,
   "metadata": {},
   "outputs": [
    {
     "data": {
      "text/plain": [
       "1.0"
      ]
     },
     "execution_count": 39,
     "metadata": {},
     "output_type": "execute_result"
    }
   ],
   "source": [
    "abs(-12) # turning negative number to positive\n",
    "abs(-1.0)"
   ]
  },
  {
   "cell_type": "code",
   "execution_count": 42,
   "metadata": {},
   "outputs": [
    {
     "data": {
      "text/plain": [
       "1"
      ]
     },
     "execution_count": 42,
     "metadata": {},
     "output_type": "execute_result"
    }
   ],
   "source": [
    "max(1,3,4,5,2,1,3,4,2)\n",
    "min(1,3,4,5,2,1,3,4,2)"
   ]
  },
  {
   "cell_type": "code",
   "execution_count": 46,
   "metadata": {},
   "outputs": [
    {
     "data": {
      "text/plain": [
       "-1.256"
      ]
     },
     "execution_count": 46,
     "metadata": {},
     "output_type": "execute_result"
    }
   ],
   "source": [
    "round(2.45, 1) # 2.5\n",
    "round(-1.2563, 3) # -1.256"
   ]
  },
  {
   "cell_type": "markdown",
   "metadata": {},
   "source": [
    "# ***Lecture Day5***\n",
    "[**By Palm**]"
   ]
  },
  {
   "cell_type": "markdown",
   "metadata": {},
   "source": [
    "### ***Constant***"
   ]
  },
  {
   "cell_type": "code",
   "execution_count": null,
   "metadata": {},
   "outputs": [],
   "source": [
    "PI = 3.14 # the variable name should use the UPPER_CASE\n",
    "MATH_E = 2.7\n",
    "API_LINK = ''\n",
    "\n"
   ]
  },
  {
   "cell_type": "markdown",
   "metadata": {},
   "source": [
    "### ***Conditional***"
   ]
  },
  {
   "cell_type": "code",
   "execution_count": 8,
   "metadata": {},
   "outputs": [
    {
     "name": "stdout",
     "output_type": "stream",
     "text": [
      "YESS\n",
      "WOW\n"
     ]
    }
   ],
   "source": [
    "# if condition:\n",
    "#   statement\n",
    "\n",
    "if 3 < 2:\n",
    "    print(\"Hello\")\n",
    "\n",
    "if 5 != 4 and 6 > 3:\n",
    "    if 5 < 4:\n",
    "        print(\"NOOOOOO\")\n",
    "    print(\"YESS\")\n",
    "print(\"WOW\")"
   ]
  },
  {
   "cell_type": "code",
   "execution_count": 14,
   "metadata": {},
   "outputs": [
    {
     "name": "stdout",
     "output_type": "stream",
     "text": [
      "False\n"
     ]
    }
   ],
   "source": [
    "# if condition:\n",
    "#   statement\n",
    "# else:\n",
    "\n",
    "if 5 < 5:\n",
    "    print(\"True\")\n",
    "else:\n",
    "    print(\"False\")"
   ]
  },
  {
   "cell_type": "code",
   "execution_count": 17,
   "metadata": {},
   "outputs": [
    {
     "name": "stdout",
     "output_type": "stream",
     "text": [
      "ELSE IF\n"
     ]
    }
   ],
   "source": [
    "# if condition:\n",
    "#   statement\n",
    "# elif condition:\n",
    "#   statement\n",
    "# else: \n",
    "\n",
    "if 4 > 5:\n",
    "    print(\"IF\")\n",
    "elif 5 == 5:\n",
    "    print(\"ELSE IF\")\n",
    "else:\n",
    "    print(\"ELSE\")\n"
   ]
  },
  {
   "cell_type": "code",
   "execution_count": 21,
   "metadata": {},
   "outputs": [
    {
     "name": "stdout",
     "output_type": "stream",
     "text": [
      "Go back gome and eat MaMa\n",
      "Water\n"
     ]
    }
   ],
   "source": [
    "pocket_money = int(input(\"Please enter the pocket money: \"))\n",
    "age = int(input(\"Please enter your age: \"))\n",
    "is_above20 = age >= 20\n",
    "\n",
    "if pocket_money > 3000:\n",
    "    print(\"cavier and foir gras\")\n",
    "    \n",
    "    if is_above20 >= 20:\n",
    "        print(\"Wine\")\n",
    "elif pocket_money > 700:\n",
    "    print(\"Buffet\")\n",
    "\n",
    "    if is_above20 >= 20:\n",
    "        print(\"Beer\")\n",
    "elif pocket_money > 100:\n",
    "    print(\"Tom Yam\")\n",
    "    print(\"That Omlette\")\n",
    "elif pocket_money > 10:\n",
    "    print(\"Go back gome and eat MaMa\")\n",
    "    print(\"Water\")"
   ]
  },
  {
   "cell_type": "markdown",
   "metadata": {},
   "source": [
    "# ***Lecture Day 6***"
   ]
  },
  {
   "cell_type": "markdown",
   "metadata": {},
   "source": [
    "### ***While loop***"
   ]
  },
  {
   "cell_type": "code",
   "execution_count": 1,
   "metadata": {},
   "outputs": [
    {
     "name": "stdout",
     "output_type": "stream",
     "text": [
      "1\n",
      "2\n",
      "3\n",
      "4\n",
      "5\n"
     ]
    }
   ],
   "source": [
    "# while condition:\n",
    "#   statement\n",
    "\n",
    "number = 1\n",
    "while number < 6:\n",
    "    print(number)\n",
    "    number += 1"
   ]
  },
  {
   "cell_type": "code",
   "execution_count": 3,
   "metadata": {},
   "outputs": [
    {
     "name": "stdout",
     "output_type": "stream",
     "text": [
      "2 4 6 8 10 12 14 16 18 20 "
     ]
    }
   ],
   "source": [
    "number = 2\n",
    "\n",
    "while number <= 20:\n",
    "    print(number,end=\" \")\n",
    "    number += 2"
   ]
  },
  {
   "cell_type": "code",
   "execution_count": 1,
   "metadata": {},
   "outputs": [
    {
     "name": "stdout",
     "output_type": "stream",
     "text": [
      "2 3 5 7 11 13 17 19 "
     ]
    }
   ],
   "source": [
    "from math import floor\n",
    "def is_prime(number:int) -> bool:\n",
    "    if number == 1:\n",
    "        return False\n",
    "    \n",
    "    i = 2\n",
    "    while i <= number**(1/2):\n",
    "        if number % i == 0:\n",
    "            return False\n",
    "        i += 1\n",
    "    return True\n",
    "\n",
    "a = 2\n",
    "while a <= 20:\n",
    "    if is_prime(a):\n",
    "        print(a, end=\" \")\n",
    "    a += 1\n"
   ]
  },
  {
   "cell_type": "markdown",
   "metadata": {},
   "source": [
    "### ***Break, continue, pass***"
   ]
  },
  {
   "cell_type": "code",
   "execution_count": 3,
   "metadata": {},
   "outputs": [
    {
     "name": "stdout",
     "output_type": "stream",
     "text": [
      "1 2 3 4 5 6 7 8 9 10 11 12 13 14 15 16 17 18 19 20 21 22 23 24 25 26 27 28 29 30 31 32 33 34 \n",
      "Break\n"
     ]
    }
   ],
   "source": [
    "number = 1\n",
    "while True: # forever loop\n",
    "    print(number, end=\" \")\n",
    "\n",
    "    if number % 17 ==0 and number%2 == 0:\n",
    "        print(\"\\nBreak\") \n",
    "        break # stop the loop\n",
    "    number += 1"
   ]
  },
  {
   "cell_type": "code",
   "execution_count": 7,
   "metadata": {},
   "outputs": [
    {
     "name": "stdout",
     "output_type": "stream",
     "text": [
      "1  Skipped! 3 4 5 6 7 8 9 10 11 12 13 14 15 16 17 18 19 "
     ]
    }
   ],
   "source": [
    "number = 1 \n",
    "while number < 20:\n",
    "    if number == 2:\n",
    "        print(\" Skipped!\", end=\" \")\n",
    "        number += 1\n",
    "        continue # skipped the loop\n",
    "    else:\n",
    "        print(number, end= \" \")\n",
    "    number += 1\n",
    "\n",
    "\n",
    "# pass"
   ]
  },
  {
   "cell_type": "markdown",
   "metadata": {},
   "source": [
    "### ***For loop***"
   ]
  },
  {
   "cell_type": "code",
   "execution_count": 22,
   "metadata": {},
   "outputs": [
    {
     "data": {
      "text/plain": [
       "range(10, -1, -1)"
      ]
     },
     "execution_count": 22,
     "metadata": {},
     "output_type": "execute_result"
    }
   ],
   "source": [
    "# for variable in range():\n",
    "#   action\n",
    "\n",
    "# range(start, stop, step)\n",
    "range(6) # 0, 1, 2, 3, 4, 5\n",
    "range(3) # 0, 1, 2, 3\n",
    "range(5, 12) # 5, 6, 7, 8, 9, 10, 11\n",
    "range(-1, 3) # -1, 0, 1, 2\n",
    "\n",
    "range(3, 9, 2) # 3, 5, 7\n",
    "range(10,-1,-1) # 10,9,8,7,6,5,4,3,2,1,0\n",
    "\n"
   ]
  },
  {
   "cell_type": "code",
   "execution_count": 28,
   "metadata": {},
   "outputs": [
    {
     "name": "stdout",
     "output_type": "stream",
     "text": [
      "1 4 9 16 25 36 49 64 81 100 "
     ]
    }
   ],
   "source": [
    "#print square of numbers from 1-10\n",
    "for number in range(1, 11):\n",
    "    square = number ** 2\n",
    "    print(square , end=' ')"
   ]
  },
  {
   "cell_type": "markdown",
   "metadata": {},
   "source": [
    "# ***Lecture day 7***"
   ]
  },
  {
   "cell_type": "markdown",
   "metadata": {},
   "source": [
    "### ***String***"
   ]
  },
  {
   "cell_type": "code",
   "execution_count": 5,
   "metadata": {},
   "outputs": [
    {
     "name": "stdout",
     "output_type": "stream",
     "text": [
      "Hello world\n",
      "PalmPalmPalmPalmPalm\n",
      "4\n"
     ]
    }
   ],
   "source": [
    "# store any word sentense\n",
    "empty_string = ''\n",
    "empty_string = \"\"\n",
    "\n",
    "s = \"Jedi loves Ve\"\n",
    "s = \"I'm a boy\"\n",
    "quote = \"She said that \\\"I'm a boy\\\"\"\n",
    "s1 = \"Hello \"\n",
    "s2 = \"world\"\n",
    "\n",
    "s3 = \"Palm\"\n",
    "\n",
    "l = len(s3) # size of string\n",
    "\n",
    "print(s1 + s2)\n",
    "print(s3 * 5)\n",
    "print(l)"
   ]
  },
  {
   "cell_type": "markdown",
   "metadata": {},
   "source": [
    "### ***indexing***"
   ]
  },
  {
   "cell_type": "code",
   "execution_count": 7,
   "metadata": {},
   "outputs": [
    {
     "name": "stdout",
     "output_type": "stream",
     "text": [
      "P\n",
      "m\n",
      "Pal\n"
     ]
    }
   ],
   "source": [
    "s1 = \"Palm\" # index start from 0\n",
    "print(s1[0])\n",
    "print(s1[-1])\n",
    "print(s1[0:3])"
   ]
  },
  {
   "cell_type": "code",
   "execution_count": 14,
   "metadata": {},
   "outputs": [
    {
     "name": "stdout",
     "output_type": "stream",
     "text": [
      "I\n",
      "love\n",
      "peacock!\n",
      "!kcocaep evol I\n"
     ]
    }
   ],
   "source": [
    "s = \"I love peacock!\"\n",
    "\n",
    "print(s[0])\n",
    "print(s[2:6]) # slicing\n",
    "print(s[7:])\n",
    "print(s[::-1]) # reverse"
   ]
  },
  {
   "cell_type": "markdown",
   "metadata": {},
   "source": [
    "# ***Lecture Day8***"
   ]
  },
  {
   "cell_type": "markdown",
   "metadata": {},
   "source": [
    "### ***f-string (String Format)***"
   ]
  },
  {
   "cell_type": "code",
   "execution_count": 2,
   "metadata": {},
   "outputs": [
    {
     "name": "stdout",
     "output_type": "stream",
     "text": [
      "my age is 12 years old\n"
     ]
    }
   ],
   "source": [
    "age = 12\n",
    "print(f\"my age is {age} years old\")"
   ]
  },
  {
   "cell_type": "markdown",
   "metadata": {},
   "source": [
    "### ***in / not in operators***"
   ]
  },
  {
   "cell_type": "code",
   "execution_count": 5,
   "metadata": {},
   "outputs": [
    {
     "name": "stdout",
     "output_type": "stream",
     "text": [
      "True\n",
      "False\n",
      "True\n"
     ]
    }
   ],
   "source": [
    "s = \"I love peacock!\"\n",
    "\n",
    "print(\"o\" in s)\n",
    "print(\"O\" in s)\n",
    "print(\" \" in s)"
   ]
  },
  {
   "cell_type": "markdown",
   "metadata": {},
   "source": [
    "### ***Spliting***"
   ]
  },
  {
   "cell_type": "code",
   "execution_count": 7,
   "metadata": {},
   "outputs": [
    {
     "name": "stdout",
     "output_type": "stream",
     "text": [
      "['I', 'love', 'banana']\n",
      "['I love b', 'n', 'n', '']\n"
     ]
    }
   ],
   "source": [
    "s = \"I love banana\"\n",
    "print(s.split())\n",
    "print(s.split(\"a\"))"
   ]
  },
  {
   "cell_type": "markdown",
   "metadata": {},
   "source": [
    "### ***count, replace***"
   ]
  },
  {
   "cell_type": "code",
   "execution_count": 10,
   "metadata": {},
   "outputs": [
    {
     "name": "stdout",
     "output_type": "stream",
     "text": [
      "1\n",
      "I love peaGGEZ\n"
     ]
    }
   ],
   "source": [
    "s = \"I love peacock\"\n",
    "\n",
    "print(s.count(\"p\"))\n",
    "print(s.replace(\"cock\", \"GGEZ\"))"
   ]
  },
  {
   "cell_type": "code",
   "execution_count": 3,
   "metadata": {},
   "outputs": [
    {
     "name": "stdout",
     "output_type": "stream",
     "text": [
      "I love peacock\n",
      "I LOVE PEACOCK\n",
      "i love peacock\n"
     ]
    }
   ],
   "source": [
    "s = \"I love peacock\"\n",
    "print(s.capitalize())\n",
    "print(s.upper())\n",
    "print(s.lower())"
   ]
  },
  {
   "cell_type": "code",
   "execution_count": 10,
   "metadata": {},
   "outputs": [
    {
     "name": "stdout",
     "output_type": "stream",
     "text": [
      "I love peacock\n",
      "I love peacock\n",
      "\n",
      "\n",
      "0 I\n",
      "1  \n",
      "2 l\n",
      "3 o\n",
      "4 v\n",
      "5 e\n",
      "6  \n",
      "7 p\n",
      "8 e\n",
      "9 a\n",
      "10 c\n",
      "11 o\n",
      "12 c\n",
      "13 k\n"
     ]
    }
   ],
   "source": [
    "# loop through\n",
    "s = \"I love peacock\"\n",
    "\n",
    "# loop by characters\n",
    "for charecter in s:\n",
    "    print(charecter, end=\"\")\n",
    "print()\n",
    "\n",
    "# loop by indexing\n",
    "for i in range(len(s)):\n",
    "    print(s[i], end=\"\")\n",
    "print(\"\\n\\n\")\n",
    "\n",
    "# enumerate get both of index and charecter\n",
    "for i, charecter in enumerate(s):\n",
    "    print(i, charecter)"
   ]
  },
  {
   "cell_type": "markdown",
   "metadata": {},
   "source": [
    "# ***Lecture Day9***"
   ]
  },
  {
   "cell_type": "markdown",
   "metadata": {},
   "source": [
    "### ***list***"
   ]
  },
  {
   "cell_type": "code",
   "execution_count": 7,
   "metadata": {},
   "outputs": [
    {
     "name": "stdout",
     "output_type": "stream",
     "text": [
      "Hello+World!\n",
      "[1, 0.2, True, 'Vetit', None, [], [1, 2], <built-in function print>]\n"
     ]
    }
   ],
   "source": [
    "empty_list = []\n",
    "empty_list = list()\n",
    "\n",
    "print(\"Hello\", \"World!\", sep=\"+\")\n",
    "\n",
    "number = [1, 2, 3, 4]\n",
    "my_list = [1, 0.2, True, \"Vetit\", None, [], [1, 2], print]\n",
    "print(my_list)\n",
    "\n",
    "# you can do anything like string!!!"
   ]
  },
  {
   "cell_type": "markdown",
   "metadata": {},
   "source": [
    "### ***Modify list***"
   ]
  },
  {
   "cell_type": "code",
   "execution_count": 25,
   "metadata": {},
   "outputs": [
    {
     "name": "stdout",
     "output_type": "stream",
     "text": [
      "[True, 1, 2, 3, 4, 1, 3, 4, True, False]\n",
      "[1, 2] 2\n"
     ]
    }
   ],
   "source": [
    "# add\n",
    "l = [1, 2, 3]\n",
    "l.append(4)\n",
    "l.insert(0, True)\n",
    "l.extend([1, 3, 4, True, False])\n",
    "# l.extend([]) is equal to l += []\n",
    "print(l)\n",
    "\n",
    "# delete\n",
    "l = [1, 2, 3]\n",
    "last_element = l.pop(1) # <-- it can put index WOW WOW\n",
    "l.remove(3) # remove(value) <-- \n",
    "\n",
    "l = [1, 1, 2]\n",
    "l.remove(1) # first element\n",
    "\n",
    "print(l, last_element)\n"
   ]
  },
  {
   "cell_type": "code",
   "execution_count": 35,
   "metadata": {},
   "outputs": [
    {
     "data": {
      "text/plain": [
       "[1, 0.5, None, 2, 'Vetit']"
      ]
     },
     "execution_count": 35,
     "metadata": {},
     "output_type": "execute_result"
    }
   ],
   "source": [
    "l = [1, 2, 0.5, None, 1, \"Vetit\"]\n",
    "\n",
    "j = 0\n",
    "for i in range(0, len(l)):\n",
    "    if l[i] == 1:\n",
    "        l[j], l[i] = l[i], l[j]\n",
    "        j += 1\n",
    "            \n",
    "for i in l:\n",
    "        l.pop(0)\n",
    "l"
   ]
  },
  {
   "cell_type": "markdown",
   "metadata": {},
   "source": [
    "# ***Lecture Day 10***"
   ]
  },
  {
   "cell_type": "markdown",
   "metadata": {},
   "source": [
    "### ***\\*list (List extractor)***"
   ]
  },
  {
   "cell_type": "code",
   "execution_count": 4,
   "metadata": {},
   "outputs": [
    {
     "name": "stdout",
     "output_type": "stream",
     "text": [
      "[1, True, 0.5, 'Palm', None, <built-in function print>]\n",
      "1 True 0.5 Palm None <built-in function print>\n"
     ]
    }
   ],
   "source": [
    "l = [1, True, 0.5, \"Palm\", None, print]\n",
    "\n",
    "print(l)\n",
    "print(*l) # No more list, Just like grab out of all element"
   ]
  },
  {
   "cell_type": "code",
   "execution_count": 18,
   "metadata": {},
   "outputs": [
    {
     "name": "stdout",
     "output_type": "stream",
     "text": [
      "[0, 0, 0, 0, 0]\n",
      "[3, 2]\n"
     ]
    },
    {
     "data": {
      "text/plain": [
       "[8, 6, 5, 4, 2, 1]"
      ]
     },
     "execution_count": 18,
     "metadata": {},
     "output_type": "execute_result"
    }
   ],
   "source": [
    "l = [0] * 5 # list mutiply\n",
    "m = [3] + [2] \n",
    "\n",
    "print(l)\n",
    "print(m)\n",
    "\n",
    "l = [4, 2, 5, 6, 1, 8]\n",
    "l.sort() \n",
    "l # [1, 2, 4, 5, 6, 8]\n",
    "l.sort(reverse=True) # [8, 6, 5, 4, 2, 1]\n",
    "l\n"
   ]
  },
  {
   "cell_type": "markdown",
   "metadata": {},
   "source": [
    "### ***in / not in***"
   ]
  },
  {
   "cell_type": "code",
   "execution_count": 28,
   "metadata": {},
   "outputs": [
    {
     "name": "stdout",
     "output_type": "stream",
     "text": [
      "True\n",
      "False\n",
      "False\n"
     ]
    }
   ],
   "source": [
    "l = [4, 2, 5, 6, 1, 8]\n",
    "print(1 in l)\n",
    "print([1,2] in l)\n",
    "print([3] in l)\n",
    "\n",
    "\n"
   ]
  },
  {
   "cell_type": "markdown",
   "metadata": {},
   "source": [
    "### ***List conditional***"
   ]
  },
  {
   "cell_type": "code",
   "execution_count": 31,
   "metadata": {},
   "outputs": [
    {
     "name": "stdout",
     "output_type": "stream",
     "text": [
      "NO\n"
     ]
    }
   ],
   "source": [
    "l = [1, 2, 1, 3, 1, 4, [3]]\n",
    "\n",
    "if 5 in l:\n",
    "    print(\"YAY\")\n",
    "else:\n",
    "    print(\"NO\")\n"
   ]
  },
  {
   "cell_type": "markdown",
   "metadata": {},
   "source": [
    "### ***Loops***"
   ]
  },
  {
   "cell_type": "code",
   "execution_count": null,
   "metadata": {},
   "outputs": [],
   "source": [
    "# Work like string"
   ]
  },
  {
   "cell_type": "markdown",
   "metadata": {},
   "source": [
    "### ***Map***"
   ]
  },
  {
   "cell_type": "code",
   "execution_count": 33,
   "metadata": {},
   "outputs": [
    {
     "name": "stdout",
     "output_type": "stream",
     "text": [
      "[1, 2, 3]\n"
     ]
    }
   ],
   "source": [
    "l = [1.5, 2.5, 3.5]\n",
    "\n",
    "# map(function!, list)\n",
    "\n",
    "print(list(map(int, l)))  # change every element into integer!!!\n"
   ]
  },
  {
   "cell_type": "code",
   "execution_count": 34,
   "metadata": {},
   "outputs": [
    {
     "name": "stdout",
     "output_type": "stream",
     "text": [
      "['0', '1', '0.0']\n"
     ]
    }
   ],
   "source": [
    "l = [0, 1, 0.0]\n",
    "\n",
    "print(list(map(str, l)))"
   ]
  },
  {
   "cell_type": "markdown",
   "metadata": {},
   "source": [
    "### ***Codeforces Combo***"
   ]
  },
  {
   "cell_type": "code",
   "execution_count": 36,
   "metadata": {},
   "outputs": [
    {
     "name": "stdout",
     "output_type": "stream",
     "text": [
      "[1, 2, 4, 5, 3, 2]\n"
     ]
    }
   ],
   "source": [
    "l = list(map(int, input().split())) # when the input is 1 2 4 5 3 2\n",
    "print(l)"
   ]
  },
  {
   "cell_type": "markdown",
   "metadata": {},
   "source": [
    "### ***Tuple***"
   ]
  },
  {
   "cell_type": "code",
   "execution_count": 54,
   "metadata": {},
   "outputs": [
    {
     "name": "stdout",
     "output_type": "stream",
     "text": [
      "2\n",
      "[3, 2, 1]\n",
      "[1, 2, 3]\n",
      "3\n",
      "1 2 3\n",
      "('1', '2', '3')\n",
      "(1, 2, 3, 1, 2, 3, 1, 2, 3, 1, 2, 3, 1, 2, 3)\n",
      "(1, 2, 3, 1, 2, 3)\n"
     ]
    }
   ],
   "source": [
    "\"\"\"\n",
    "Tuple is a list but\n",
    "- immutable (cannot be changed, added or deleted element)\n",
    "\"\"\"\n",
    "\n",
    "t = tuple()\n",
    "t = (1, 2, 3)\n",
    "\n",
    "#  t[1] = 5 can not do this\n",
    "\n",
    "print(t[1])\n",
    "print(sorted(t, reverse=True))\n",
    "print(sorted(t))\n",
    "print(len(t))\n",
    "print(*t)\n",
    "print(tuple(map(str,t)))\n",
    "print(t * 5)\n",
    "print(t + t)"
   ]
  },
  {
   "cell_type": "markdown",
   "metadata": {},
   "source": [
    "# ***Lecture Day 11***"
   ]
  },
  {
   "cell_type": "markdown",
   "metadata": {},
   "source": [
    "### ***Set***"
   ]
  },
  {
   "cell_type": "code",
   "execution_count": 3,
   "metadata": {},
   "outputs": [
    {
     "name": "stdout",
     "output_type": "stream",
     "text": [
      "{1, 2, 3}\n"
     ]
    }
   ],
   "source": [
    "# set is a container that contain only unqiue elements\n",
    "\n",
    "# set operations\n",
    "\"\"\"\n",
    "    - union\n",
    "    - intersection\n",
    "    - difference\n",
    "\"\"\"\n",
    "\n",
    "s = set() # empty\n",
    "non_empty_set = {1, 2, 3, 3}\n",
    "\n",
    "print(non_empty_set)"
   ]
  },
  {
   "cell_type": "code",
   "execution_count": 5,
   "metadata": {},
   "outputs": [
    {
     "ename": "TypeError",
     "evalue": "'set' object is not reversible",
     "output_type": "error",
     "traceback": [
      "\u001b[1;31m---------------------------------------------------------------------------\u001b[0m",
      "\u001b[1;31mTypeError\u001b[0m                                 Traceback (most recent call last)",
      "Cell \u001b[1;32mIn[5], line 2\u001b[0m\n\u001b[0;32m      1\u001b[0m s1 \u001b[38;5;241m=\u001b[39m {\u001b[38;5;241m1\u001b[39m, \u001b[38;5;241m2\u001b[39m, \u001b[38;5;241m3\u001b[39m}\n\u001b[1;32m----> 2\u001b[0m \u001b[38;5;28;43mreversed\u001b[39;49m\u001b[43m(\u001b[49m\u001b[43ms1\u001b[49m\u001b[43m)\u001b[49m\n",
      "\u001b[1;31mTypeError\u001b[0m: 'set' object is not reversible"
     ]
    }
   ],
   "source": [
    "s1 = {1, 2, 3}\n",
    "reversed(s1)"
   ]
  },
  {
   "cell_type": "code",
   "execution_count": 7,
   "metadata": {},
   "outputs": [
    {
     "data": {
      "text/plain": [
       "{1, 2, 3}"
      ]
     },
     "execution_count": 7,
     "metadata": {},
     "output_type": "execute_result"
    }
   ],
   "source": [
    "s1 = {1.5, 2.5, 3.5}\n",
    "set(map(int, s1))"
   ]
  },
  {
   "cell_type": "code",
   "execution_count": 13,
   "metadata": {},
   "outputs": [
    {
     "name": "stdout",
     "output_type": "stream",
     "text": [
      "{1, 2, 3, 4, 5}\n",
      "{2, 3, 4, 5}\n",
      "{3, 4, 5}\n",
      "{4, 5}\n"
     ]
    }
   ],
   "source": [
    "s1 = {1,1,2,3,4}\n",
    "s1.add(5)\n",
    "print(s1)\n",
    "s1.remove(1)\n",
    "print(s1)\n",
    "s1.pop()\n",
    "print(s1)\n",
    "s1.pop()\n",
    "print(s1)"
   ]
  },
  {
   "cell_type": "code",
   "execution_count": 18,
   "metadata": {},
   "outputs": [
    {
     "data": {
      "text/plain": [
       "{0.5, False, None, True, 'cat', 'dogs'}"
      ]
     },
     "execution_count": 18,
     "metadata": {},
     "output_type": "execute_result"
    }
   ],
   "source": [
    "words = {\"cat\", \"dogs\", True, False, None, 1, 0.5}\n",
    "words"
   ]
  },
  {
   "cell_type": "markdown",
   "metadata": {},
   "source": [
    "### ***Operators***"
   ]
  },
  {
   "cell_type": "code",
   "execution_count": 20,
   "metadata": {},
   "outputs": [
    {
     "name": "stdout",
     "output_type": "stream",
     "text": [
      "{1, 2, 3, 4, 5, 6}\n"
     ]
    },
    {
     "data": {
      "text/plain": [
       "{4, 5, 6}"
      ]
     },
     "execution_count": 20,
     "metadata": {},
     "output_type": "execute_result"
    }
   ],
   "source": [
    "# Union\n",
    "s1 = {1,2,3}\n",
    "s2 = {4,5,6}\n",
    "\n",
    "print(s1.union(s2))\n",
    "s1.intersection(s2)\n",
    "s1.difference(s2)\n",
    "s1 - s2\n",
    "s2 - s1"
   ]
  },
  {
   "cell_type": "code",
   "execution_count": 25,
   "metadata": {},
   "outputs": [
    {
     "name": "stdout",
     "output_type": "stream",
     "text": [
      "{'cat', 'apple', 'dog', 'banana'}\n"
     ]
    }
   ],
   "source": [
    "words = {\"apple\", \"banana\", \"cat\", \"dog\"}\n",
    "print(words)"
   ]
  },
  {
   "cell_type": "code",
   "execution_count": 26,
   "metadata": {},
   "outputs": [
    {
     "data": {
      "text/plain": [
       "True"
      ]
     },
     "execution_count": 26,
     "metadata": {},
     "output_type": "execute_result"
    }
   ],
   "source": [
    "s = {1, 2, 3}\n",
    "l = [1, 2, 3]\n",
    "\n",
    "1 in l # O(n)\n",
    "1 in s # O(1)"
   ]
  },
  {
   "cell_type": "code",
   "execution_count": 28,
   "metadata": {},
   "outputs": [
    {
     "name": "stdout",
     "output_type": "stream",
     "text": [
      "1\n",
      "2\n",
      "3\n"
     ]
    }
   ],
   "source": [
    "s = {1, 2, 3}\n",
    "for ele in s:\n",
    "    print(ele)"
   ]
  },
  {
   "cell_type": "code",
   "execution_count": 29,
   "metadata": {},
   "outputs": [
    {
     "name": "stdout",
     "output_type": "stream",
     "text": [
      "0 1\n",
      "1 2\n",
      "2 3\n"
     ]
    }
   ],
   "source": [
    "s = {1, 2, 3}\n",
    "for i, ele in enumerate(s):\n",
    "    print(i, ele)"
   ]
  },
  {
   "cell_type": "markdown",
   "metadata": {},
   "source": [
    "### ***dictionary***"
   ]
  },
  {
   "cell_type": "code",
   "execution_count": 33,
   "metadata": {},
   "outputs": [
    {
     "name": "stdout",
     "output_type": "stream",
     "text": [
      "{'hourse': 4, 'humans': 2, 'fish': 0}\n"
     ]
    }
   ],
   "source": [
    "# Just like set that key attrach with value\n",
    "\n",
    "# key shouldn't be change (can add/delete)\n",
    "# value can be anything\n",
    "d = {\n",
    "    \"hourse\" : 4,\n",
    "    \"humans\" : 2,\n",
    "    \"fish\" : 0\n",
    "}\n",
    "\n",
    "print(d)"
   ]
  },
  {
   "cell_type": "code",
   "execution_count": 35,
   "metadata": {},
   "outputs": [
    {
     "ename": "TypeError",
     "evalue": "unhashable type: 'list'",
     "output_type": "error",
     "traceback": [
      "\u001b[1;31m---------------------------------------------------------------------------\u001b[0m",
      "\u001b[1;31mTypeError\u001b[0m                                 Traceback (most recent call last)",
      "Cell \u001b[1;32mIn[35], line 1\u001b[0m\n\u001b[1;32m----> 1\u001b[0m d \u001b[38;5;241m=\u001b[39m {[\u001b[38;5;241m1\u001b[39m,\u001b[38;5;241m2\u001b[39m]: \u001b[38;5;124m\"\u001b[39m\u001b[38;5;124mNo\u001b[39m\u001b[38;5;124m\"\u001b[39m}\n",
      "\u001b[1;31mTypeError\u001b[0m: unhashable type: 'list'"
     ]
    }
   ],
   "source": [
    "d = {[1,2]: \"No\"}"
   ]
  },
  {
   "cell_type": "code",
   "execution_count": 37,
   "metadata": {},
   "outputs": [
    {
     "data": {
      "text/plain": [
       "{'hourse': 4, 'human': 2, 'fish': 0, 'monkey': 3, 'pig': 4}"
      ]
     },
     "execution_count": 37,
     "metadata": {},
     "output_type": "execute_result"
    }
   ],
   "source": [
    "# key just like the set, Must be hashtable type\n",
    "animals_legs = {\"hourse\":4, \"human\":2, \"fish\":0, \"monkey\":3, \"pig\":4}\n",
    "animals_legs"
   ]
  },
  {
   "cell_type": "code",
   "execution_count": 39,
   "metadata": {},
   "outputs": [
    {
     "name": "stdout",
     "output_type": "stream",
     "text": [
      "{'hourse': 6, 'human': 2, 'fish': 0, 'monkey': 3, 'pig': 4, 'centipede': 100}\n"
     ]
    }
   ],
   "source": [
    "animals_legs[\"hourse\"] = 6 # Overwrite\n",
    "animals_legs[\"centipede\"] = 100 # Add\n",
    "print(animals_legs)"
   ]
  },
  {
   "cell_type": "markdown",
   "metadata": {},
   "source": [
    "### ***Methods***"
   ]
  },
  {
   "cell_type": "code",
   "execution_count": 53,
   "metadata": {},
   "outputs": [
    {
     "name": "stdout",
     "output_type": "stream",
     "text": [
      "None\n",
      "{'hourse': 4, 'human': 2, 'fish': 0, 'monkey': 3, 'pig': 4, 'centipete': 100}\n",
      "{'hourse': 4, 'human': 2, 'fish': 0, 'monkey': 3, 'pig': 4}\n",
      "{'human': 2, 'fish': 0, 'monkey': 3, 'pig': 4}\n",
      "[('human', 2), ('fish', 0), ('monkey', 3), ('pig', 4)]\n",
      "[2, 0, 3, 4]\n",
      "['human', 'fish', 'monkey', 'pig']\n"
     ]
    }
   ],
   "source": [
    "animals_legs = {\"hourse\":4, \"human\":2, \"fish\":0, \"monkey\":3, \"pig\":4}\n",
    "\n",
    "# get\n",
    "print(animals_legs.get(\"turtle\")) # to acess like [] but not throw error just give None\n",
    "\n",
    "# update (argument accept only list or dict)\n",
    "animals_legs.update({\"centipete\":100})\n",
    "print(animals_legs)\n",
    "\n",
    "# delete\n",
    "animals_legs.popitem() # last item\n",
    "print(animals_legs)\n",
    "\n",
    "animals_legs.pop(\"hourse\") # can input argument\n",
    "print(animals_legs)\n",
    "\n",
    "print(list(animals_legs.items()))\n",
    "print(list(animals_legs.values()))\n",
    "print(list(animals_legs.keys()))"
   ]
  },
  {
   "cell_type": "markdown",
   "metadata": {},
   "source": [
    "# ***Lecture Day 12***"
   ]
  },
  {
   "cell_type": "markdown",
   "metadata": {},
   "source": [
    "### ***Function***"
   ]
  },
  {
   "cell_type": "code",
   "execution_count": 2,
   "metadata": {},
   "outputs": [],
   "source": [
    "def function_name(parameter1, parameter2):\n",
    "    \"\"\" print Hello and World \"\"\"\n",
    "    print(\"Hello\")  \n",
    "    print(\"World\")"
   ]
  },
  {
   "cell_type": "code",
   "execution_count": 5,
   "metadata": {},
   "outputs": [
    {
     "name": "stdout",
     "output_type": "stream",
     "text": [
      "Hello Palm\n",
      "Hello Meow\n"
     ]
    }
   ],
   "source": [
    "def greet_person(name):\n",
    "    \"\"\"\n",
    "    Receive the name of a person and print out the greeting sentence.\n",
    "    \"\"\"\n",
    "    print(f\"Hello {name}\")\n",
    "\n",
    "greet_person(\"Palm\")\n",
    "greet_person(\"Meow\")\n",
    "    "
   ]
  },
  {
   "cell_type": "code",
   "execution_count": 7,
   "metadata": {},
   "outputs": [
    {
     "name": "stdout",
     "output_type": "stream",
     "text": [
      "3000\n"
     ]
    }
   ],
   "source": [
    "def calculate_price(number_of_apple_price):\n",
    "    apple_price = 60\n",
    "    return number_of_apple_price * apple_price\n",
    "\n",
    "print(calculate_price(50))"
   ]
  },
  {
   "cell_type": "code",
   "execution_count": 9,
   "metadata": {},
   "outputs": [
    {
     "name": "stdout",
     "output_type": "stream",
     "text": [
      "5 3\n"
     ]
    }
   ],
   "source": [
    "def give_5_and_3():\n",
    "    return 5, 3\n",
    "\n",
    "a, b = give_5_and_3()\n",
    "print(a, b)"
   ]
  },
  {
   "cell_type": "code",
   "execution_count": 11,
   "metadata": {},
   "outputs": [
    {
     "name": "stdout",
     "output_type": "stream",
     "text": [
      "750\n",
      "180\n"
     ]
    }
   ],
   "source": [
    "# set Default\n",
    "def calculate_price_v2(number, apple_price=50):\n",
    "    return number * apple_price\n",
    "\n",
    "print(calculate_price_v2(15))\n",
    "print(calculate_price_v2(15, 12))"
   ]
  },
  {
   "cell_type": "code",
   "execution_count": 14,
   "metadata": {},
   "outputs": [
    {
     "name": "stdout",
     "output_type": "stream",
     "text": [
      "750\n",
      "60\n",
      "196\n"
     ]
    }
   ],
   "source": [
    "# positional arguments (these one without name)\n",
    "print(calculate_price_v2(15))\n",
    "\n",
    "# keyword arguments\n",
    "print(calculate_price_v2(number=5 ,apple_price=12))\n",
    "\n",
    "# rule: postional before keyword\n",
    "print(calculate_price_v2(14, apple_price=14))"
   ]
  },
  {
   "cell_type": "markdown",
   "metadata": {},
   "source": [
    "# ***Lecture Day13***"
   ]
  },
  {
   "cell_type": "markdown",
   "metadata": {},
   "source": [
    "### ***\\*args \\*\\*kwags***"
   ]
  },
  {
   "cell_type": "code",
   "execution_count": 1,
   "metadata": {},
   "outputs": [],
   "source": [
    "# problem -->\n",
    "def add(a, b, c, d,):\n",
    "    return a + b + c + d\n",
    " "
   ]
  },
  {
   "cell_type": "code",
   "execution_count": 8,
   "metadata": {},
   "outputs": [
    {
     "name": "stdout",
     "output_type": "stream",
     "text": [
      "(1, 2, 4, 5, 6)\n",
      "18\n"
     ]
    }
   ],
   "source": [
    "# unspecify number of parameter\n",
    "def add(*args):\n",
    "    print(args) # args represents as tuple \n",
    "\n",
    "    result = 0\n",
    "    for ele in args:\n",
    "        result += ele\n",
    "    return result   \n",
    "\n",
    "print(add(1, 2, 4, 5, 6)) # can input any number of arguments\n",
    "\n",
    "def de(a, *args): # a is require parameter\n",
    "    return a"
   ]
  },
  {
   "cell_type": "code",
   "execution_count": 12,
   "metadata": {},
   "outputs": [
    {
     "name": "stdout",
     "output_type": "stream",
     "text": [
      "{'eng': 2}\n",
      "Hello 1 49 2\n"
     ]
    }
   ],
   "source": [
    "# **kwargs (keywords argument)\n",
    "# handdle unspecify number of keywords arguments\n",
    "\n",
    "def greeting(aomsub=1, palm=49, **kwargs):\n",
    "    print(kwargs) # kwargs is represent as dict\n",
    "    print(\"Hello\", aomsub, palm, kwargs.get(\"eng\"))\n",
    "\n",
    "greeting(eng=2)"
   ]
  },
  {
   "cell_type": "markdown",
   "metadata": {},
   "source": [
    "### ***Literal***"
   ]
  },
  {
   "cell_type": "code",
   "execution_count": 14,
   "metadata": {},
   "outputs": [
    {
     "data": {
      "text/plain": [
       "16"
      ]
     },
     "execution_count": 14,
     "metadata": {},
     "output_type": "execute_result"
    }
   ],
   "source": [
    "# set type of this parameter and return type\n",
    "def square(x: int) -> int:\n",
    "    return x**2\n",
    "square(4)"
   ]
  }
 ],
 "metadata": {
  "kernelspec": {
   "display_name": "intro_python1",
   "language": "python",
   "name": "python3"
  },
  "language_info": {
   "codemirror_mode": {
    "name": "ipython",
    "version": 3
   },
   "file_extension": ".py",
   "mimetype": "text/x-python",
   "name": "python",
   "nbconvert_exporter": "python",
   "pygments_lexer": "ipython3",
   "version": "3.12.5"
  }
 },
 "nbformat": 4,
 "nbformat_minor": 2
}
