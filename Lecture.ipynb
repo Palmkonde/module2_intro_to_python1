{
 "cells": [
  {
   "cell_type": "markdown",
   "metadata": {},
   "source": [
    "# ***Lecture Day2***\n",
    "**[By Palm]**"
   ]
  },
  {
   "cell_type": "markdown",
   "metadata": {},
   "source": [
    "### ***Comment***"
   ]
  },
  {
   "cell_type": "code",
   "execution_count": 1,
   "metadata": {},
   "outputs": [
    {
     "name": "stdout",
     "output_type": "stream",
     "text": [
      "Hello world\n"
     ]
    }
   ],
   "source": [
    "# this is comment. comment won't work in this code just note (inline comment)\n",
    "print(\"Hello world\")\n"
   ]
  },
  {
   "cell_type": "code",
   "execution_count": 2,
   "metadata": {},
   "outputs": [
    {
     "name": "stdout",
     "output_type": "stream",
     "text": [
      "Hello world\n"
     ]
    }
   ],
   "source": [
    "\"\"\"\n",
    "Mutiline comment\n",
    "Mutiline comment\n",
    "\"\"\"\n",
    "print(\"Hello world\")"
   ]
  },
  {
   "cell_type": "markdown",
   "metadata": {},
   "source": [
    "### ***Print***"
   ]
  },
  {
   "cell_type": "markdown",
   "metadata": {},
   "source": [
    "```python\n",
    "print(\"123\", \"456\", \"789\")\n",
    "``` \n",
    "***\n",
    "* \"123\", \"456\", \"789\" We call these ***arguments*** "
   ]
  },
  {
   "cell_type": "code",
   "execution_count": 3,
   "metadata": {},
   "outputs": [
    {
     "name": "stdout",
     "output_type": "stream",
     "text": [
      "Hello world\n",
      "Hello World ! 123\n",
      "Hello-World-!-123\n"
     ]
    }
   ],
   "source": [
    "print(\"Hello world\")\n",
    "print(\"Hello\", \"World\", \"!\", \"123\")\n",
    "print(\"Hello\", \"World\", \"!\", \"123\", sep=\"-\")"
   ]
  },
  {
   "cell_type": "code",
   "execution_count": 4,
   "metadata": {},
   "outputs": [
    {
     "name": "stdout",
     "output_type": "stream",
     "text": [
      "Hello\n",
      "World\n",
      "!\n",
      "123\n"
     ]
    }
   ],
   "source": [
    "print(\"Hello\", \"World\", \"!\", \"123\", sep=\"\\n\")"
   ]
  },
  {
   "cell_type": "markdown",
   "metadata": {},
   "source": [
    "### ***Data type***"
   ]
  },
  {
   "cell_type": "markdown",
   "metadata": {},
   "source": [
    "- integer - **int()**\n",
    "    - Ex. 2, 1, 0, -1, -2\n",
    "- floating point - **float()**\n",
    "    - Ex. 2.3, 1.2, 0.0, -1.5, -2.5\n",
    "- string - **str()**\n",
    "    - Ex. \"asdasdxc\", 'asdqeweqe'\n",
    "- boolean - **bool()**\n",
    "    - Ex. **True** ,  **False**\n",
    "- ***None***"
   ]
  },
  {
   "cell_type": "markdown",
   "metadata": {},
   "source": [
    "### ***Type Checking***"
   ]
  },
  {
   "cell_type": "code",
   "execution_count": 5,
   "metadata": {},
   "outputs": [
    {
     "name": "stdout",
     "output_type": "stream",
     "text": [
      "<class 'float'>\n"
     ]
    }
   ],
   "source": [
    "# type() is a function to check type\n",
    "\n",
    "print(type(0.0))"
   ]
  },
  {
   "cell_type": "code",
   "execution_count": 6,
   "metadata": {},
   "outputs": [
    {
     "name": "stdout",
     "output_type": "stream",
     "text": [
      "True\n"
     ]
    }
   ],
   "source": [
    "# isinstance(arg1, arg2) check whether arg1 is the type arg2\n",
    "\n",
    "print(isinstance(1, int))"
   ]
  },
  {
   "cell_type": "code",
   "execution_count": 7,
   "metadata": {},
   "outputs": [
    {
     "name": "stdout",
     "output_type": "stream",
     "text": [
      "True\n",
      "True\n",
      "True\n",
      "True\n"
     ]
    }
   ],
   "source": [
    "# Fun fact\n",
    "print(True == 1)\n",
    "print(False == 0)\n",
    "print(isinstance(True, int))\n",
    "print(isinstance(False, int))"
   ]
  },
  {
   "cell_type": "markdown",
   "metadata": {},
   "source": [
    "# ***Lecture Day3***\n",
    "**[By Palm]**"
   ]
  },
  {
   "cell_type": "markdown",
   "metadata": {},
   "source": [
    "### ***Variable***"
   ]
  },
  {
   "cell_type": "code",
   "execution_count": 12,
   "metadata": {},
   "outputs": [
    {
     "name": "stdout",
     "output_type": "stream",
     "text": [
      "22\n",
      "23\n",
      "None\n"
     ]
    }
   ],
   "source": [
    "# Declare variable\n",
    "age = 22\n",
    "firstname = \"Vetit\"\n",
    "is_odd = False\n",
    "\n",
    "print(age) # How to print it\n",
    "\n",
    "age = 23\n",
    "print(age) # Age after reassign!\n",
    "\n",
    "age = None\n",
    "print(age)"
   ]
  },
  {
   "cell_type": "code",
   "execution_count": 13,
   "metadata": {},
   "outputs": [
    {
     "name": "stdout",
     "output_type": "stream",
     "text": [
      "\n",
      "Here is a list of the Python keywords.  Enter any keyword to get more help.\n",
      "\n",
      "False               class               from                or\n",
      "None                continue            global              pass\n",
      "True                def                 if                  raise\n",
      "and                 del                 import              return\n",
      "as                  elif                in                  try\n",
      "assert              else                is                  while\n",
      "async               except              lambda              with\n",
      "await               finally             nonlocal            yield\n",
      "break               for                 not                 \n",
      "\n",
      "None\n"
     ]
    }
   ],
   "source": [
    "# Name variable | Meaningful\n",
    "firstname = \"Name\"\n",
    "lastname = \"Lastname\"\n",
    "\n",
    "\"\"\"\n",
    "Bad example\n",
    "1var = 3\n",
    "_var = 2\n",
    "\"\"\"\n",
    "\n",
    "# Reserve Words\n",
    "print(help(\"keywords\")) # CANNOT use as a variable name!!!"
   ]
  },
  {
   "cell_type": "markdown",
   "metadata": {},
   "source": [
    "### ***Input***"
   ]
  },
  {
   "cell_type": "code",
   "execution_count": 20,
   "metadata": {},
   "outputs": [
    {
     "name": "stdout",
     "output_type": "stream",
     "text": [
      "Hello, welcome asds\n"
     ]
    }
   ],
   "source": [
    "username = input() # How to input\n",
    "print(\"Hello, welcome\", username)\n"
   ]
  },
  {
   "cell_type": "code",
   "execution_count": 21,
   "metadata": {},
   "outputs": [
    {
     "name": "stdout",
     "output_type": "stream",
     "text": [
      "Hello, welcome 231\n"
     ]
    }
   ],
   "source": [
    "username = input(\"Please input your username\") # Put any string to make user know where to input\n",
    "print(\"Hello, welcome\", username)"
   ]
  },
  {
   "cell_type": "markdown",
   "metadata": {},
   "source": [
    "### ***Convert datatype***"
   ]
  },
  {
   "cell_type": "code",
   "execution_count": 24,
   "metadata": {},
   "outputs": [
    {
     "name": "stdout",
     "output_type": "stream",
     "text": [
      "4 <class 'int'>\n",
      "-1 <class 'int'>\n",
      "2 <class 'int'>\n",
      "-2 <class 'int'>\n"
     ]
    },
    {
     "data": {
      "text/plain": [
       "'\\nCannot convert\\na = int(\"True\")\\na = int(\"2.4\")\\n'"
      ]
     },
     "execution_count": 24,
     "metadata": {},
     "output_type": "execute_result"
    }
   ],
   "source": [
    "# int()\n",
    "a = int(\"4\")\n",
    "print(a, type(a))\n",
    "\n",
    "a = int(\"-1\")\n",
    "print(a, type(a))\n",
    "\n",
    "a = int(2.4)\n",
    "print(a, type(a))\n",
    "\n",
    "a = int(-2.4)\n",
    "print(a, type(a))\n",
    "\n",
    "\"\"\"\n",
    "Cannot convert\n",
    "a = int(\"True\")\n",
    "a = int(\"2.4\")\n",
    "\"\"\""
   ]
  },
  {
   "cell_type": "code",
   "execution_count": 29,
   "metadata": {},
   "outputs": [
    {
     "name": "stdout",
     "output_type": "stream",
     "text": [
      "-2.0\n",
      "-2.0\n",
      "-2.4\n",
      "1.0\n"
     ]
    }
   ],
   "source": [
    "# float()\n",
    "a = float(-2)\n",
    "print(a, type(a))\n",
    "\n",
    "a = float(\"-2\")\n",
    "print(a, type(a))\n",
    "\n",
    "a = float(\"-2.4\")\n",
    "print(a, type(a))\n",
    "\n",
    "a = float(True)\n",
    "print(a, type(a))"
   ]
  },
  {
   "cell_type": "code",
   "execution_count": 35,
   "metadata": {},
   "outputs": [
    {
     "name": "stdout",
     "output_type": "stream",
     "text": [
      "True <class 'bool'>\n",
      "False <class 'bool'>\n",
      "True <class 'bool'>\n",
      "False <class 'bool'>\n",
      "False <class 'bool'>\n",
      "True <class 'bool'>\n",
      "False <class 'bool'>\n"
     ]
    }
   ],
   "source": [
    "# bool()\n",
    "a = bool(1)\n",
    "print(a, type(a))\n",
    "\n",
    "a = bool(0)\n",
    "print(a, type(a))\n",
    "\n",
    "a = bool(-1)\n",
    "print(a, type(a))\n",
    "\n",
    "a = bool(0.0)\n",
    "print(a, type(a))\n",
    "\n",
    "a = bool(\"\")\n",
    "print(a, type(a))\n",
    "\n",
    "a = bool(2.4)\n",
    "print(a, type(a))\n",
    "\n",
    "a = bool(None)\n",
    "print(a, type(a))"
   ]
  },
  {
   "cell_type": "code",
   "execution_count": 38,
   "metadata": {},
   "outputs": [
    {
     "name": "stdout",
     "output_type": "stream",
     "text": [
      "1 <class 'str'>\n",
      "True <class 'str'>\n",
      "False <class 'str'>\n",
      "2.4 <class 'str'>\n",
      "-2.4 <class 'str'>\n",
      "15\n"
     ]
    }
   ],
   "source": [
    "# str()\n",
    "a = str(1)\n",
    "print(a, type(a))\n",
    "\n",
    "a = str(True)\n",
    "print(a, type(a))\n",
    "\n",
    "a = str(False)\n",
    "print(a, type(a))\n",
    "\n",
    "a = str(2.4)\n",
    "print(a, type(a))\n",
    "\n",
    "a = str(-2.4)\n",
    "print(a, type(a))"
   ]
  }
 ],
 "metadata": {
  "kernelspec": {
   "display_name": "intro_python1",
   "language": "python",
   "name": "python3"
  },
  "language_info": {
   "codemirror_mode": {
    "name": "ipython",
    "version": 3
   },
   "file_extension": ".py",
   "mimetype": "text/x-python",
   "name": "python",
   "nbconvert_exporter": "python",
   "pygments_lexer": "ipython3",
   "version": "3.12.4"
  }
 },
 "nbformat": 4,
 "nbformat_minor": 2
}
